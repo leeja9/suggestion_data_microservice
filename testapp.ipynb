{
 "cells": [
  {
   "cell_type": "code",
   "execution_count": 1,
   "metadata": {},
   "outputs": [],
   "source": [
    "import os\n",
    "import mysql.connector\n",
    "from dotenv import load_dotenv\n",
    "load_dotenv('./.env')\n",
    "\n",
    "HOST = os.getenv('DBHOST')\n",
    "USER = os.getenv('DBUSER')\n",
    "PW = os.getenv('DBPW')\n",
    "DB = os.getenv('DB')\n",
    "\n",
    "cnx = mysql.connector.connect(host=HOST,\n",
    "                              user=USER,\n",
    "                              password=PW,\n",
    "                              database=DB,\n",
    "                              autocommit=True)\n",
    "\n",
    "cur = cnx.cursor()"
   ]
  },
  {
   "cell_type": "code",
   "execution_count": 7,
   "metadata": {},
   "outputs": [
    {
     "name": "stdout",
     "output_type": "stream",
     "text": [
      "1\n",
      "4\n"
     ]
    }
   ],
   "source": [
    "cur.reset()\n",
    "qry_min = \"SELECT MIN(suggestionID) FROM Suggestions\"\n",
    "qry_max = \"SELECT MAX(suggestionID) FROM Suggestions\"\n",
    "cur.execute(qry_min)\n",
    "min_i = cur.fetchall()[0][0]\n",
    "print(min_i)\n",
    "cur.execute(qry_max)\n",
    "max_i = cur.fetchall()[0][0]\n",
    "print(max_i)"
   ]
  },
  {
   "cell_type": "code",
   "execution_count": 5,
   "metadata": {},
   "outputs": [
    {
     "name": "stdout",
     "output_type": "stream",
     "text": [
      "1\n"
     ]
    }
   ],
   "source": [
    "print(min_i[0][0])"
   ]
  },
  {
   "cell_type": "code",
   "execution_count": null,
   "metadata": {},
   "outputs": [],
   "source": [
    "cur.reset()\n",
    "cur.close()\n",
    "cnx.close()"
   ]
  }
 ],
 "metadata": {
  "kernelspec": {
   "display_name": "Python 3",
   "language": "python",
   "name": "python3"
  },
  "language_info": {
   "codemirror_mode": {
    "name": "ipython",
    "version": 3
   },
   "file_extension": ".py",
   "mimetype": "text/x-python",
   "name": "python",
   "nbconvert_exporter": "python",
   "pygments_lexer": "ipython3",
   "version": "3.10.6"
  },
  "orig_nbformat": 4,
  "vscode": {
   "interpreter": {
    "hash": "916dbcbb3f70747c44a77c7bcd40155683ae19c65e1c03b4aa3499c5328201f1"
   }
  }
 },
 "nbformat": 4,
 "nbformat_minor": 2
}
